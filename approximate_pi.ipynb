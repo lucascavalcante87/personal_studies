{
  "nbformat": 4,
  "nbformat_minor": 0,
  "metadata": {
    "colab": {
      "provenance": [],
      "authorship_tag": "ABX9TyMx8IBSIGteKTo3BD+kV43Z",
      "include_colab_link": true
    },
    "kernelspec": {
      "name": "python3",
      "display_name": "Python 3"
    },
    "language_info": {
      "name": "python"
    }
  },
  "cells": [
    {
      "cell_type": "markdown",
      "metadata": {
        "id": "view-in-github",
        "colab_type": "text"
      },
      "source": [
        "<a href=\"https://colab.research.google.com/github/lucascavalcante87/personal_studies/blob/main/approximate_pi.ipynb\" target=\"_parent\"><img src=\"https://colab.research.google.com/assets/colab-badge.svg\" alt=\"Open In Colab\"/></a>"
      ]
    },
    {
      "cell_type": "markdown",
      "source": [
        "Classic Problem\n",
        "Approximate a value of pi with probability: \n",
        "- quarter circle with radius 1\n",
        "- square of side 1\n",
        "\n",
        "Generate a random point (x,y) in (0,1)x(0,1):\n",
        "- points inside the quarter circle of radius 1\n",
        "- points outside the square of side 1\n",
        "\n",
        "Calculus\n",
        "- Circle's Area = pi*radius²\n",
        "    - radius = 1 implies Circle's Area = pi\n",
        "- Total Points = \\[ Inside Points \\] + \\[ Outside Points \\]\n",
        "- P(Inside Points) = 4 * \\[ Inside Points \\] / \\[ Total Points \\]"
      ],
      "metadata": {
        "id": "VdczlQ0EGgEG"
      }
    },
    {
      "cell_type": "code",
      "execution_count": 2,
      "metadata": {
        "id": "FdflOCKGw39g"
      },
      "outputs": [],
      "source": [
        "# Frameworks\n",
        "import numpy as np\n",
        "import matplotlib.pyplot as plt"
      ]
    },
    {
      "cell_type": "code",
      "source": [
        "# Approximate Value of Pì\n",
        "def approximate_value_of_pi(times:int):\n",
        "    inside_x, inside_y = [], []\n",
        "    outside_x, outside_y = [], []\n",
        "    for i in range(times):\n",
        "        x = np.random.rand(1)\n",
        "        y = np.random.rand(1)\n",
        "        xy_dist = ((x**2)+(y**2))**(1/2)\n",
        "        if xy_dist<=1:\n",
        "            inside_x.append(x)\n",
        "            inside_y.append(y)\n",
        "        elif xy_dist>1:\n",
        "            outside_x.append(x)\n",
        "            outside_y.append(y)\n",
        "        else:\n",
        "            print(\"error\")\n",
        "\n",
        "    # Calculus\n",
        "    inside = len(inside_x)\n",
        "    outside = len(outside_x)\n",
        "    total = inside + outside\n",
        "    prox_circle_area = 4*inside/total\n",
        "\n",
        "    # Graph of 1/4 of Circle\n",
        "    plt.scatter(x=inside_x, y=inside_y, color=\"blue\")\n",
        "    plt.scatter(x=outside_x, y=outside_y, color=\"red\")\n",
        "    plt.title(\"Circle's Area\")\n",
        "    plt.xlabel(\"x\")\n",
        "    plt.ylabel(\"y\")\n",
        "    plt.grid(linestyle=\"--\",alpha=0.5,color=\"gray\")\n",
        "    plt.show()\n",
        "\n",
        "    # Result\n",
        "    print(\"\\u03c0 ~ {}\".format(prox_circle_area))"
      ],
      "metadata": {
        "id": "8_9zhcroxKBT"
      },
      "execution_count": 17,
      "outputs": []
    },
    {
      "cell_type": "code",
      "source": [
        "%%time\n",
        "approximate_value_of_pi(1000000)"
      ],
      "metadata": {
        "colab": {
          "base_uri": "https://localhost:8080/",
          "height": 350
        },
        "id": "DYRMAM3S5w4f",
        "outputId": "602a52fd-0c5d-472c-9bd8-3344d5ecf0f7"
      },
      "execution_count": 19,
      "outputs": [
        {
          "output_type": "display_data",
          "data": {
            "text/plain": [
              "<Figure size 432x288 with 1 Axes>"
            ],
            "image/png": "[encoded data removed]"
          },
          "metadata": {
            "needs_background": "light"
          }
        },
        {
          "output_type": "stream",
          "name": "stdout",
          "text": [
            "π ~ 3.141612\n",
            "CPU times: user 17.1 s, sys: 629 ms, total: 17.7 s\n",
            "Wall time: 17.7 s\n"
          ]
        }
      ]
    },
    {
      "cell_type": "code",
      "source": [
        "# Approximate Value of Pì, a Faster Way with Numpy\n",
        "def approximate_pi(times:int):\n",
        "    x = np.random.rand(1,times)\n",
        "    y = np.random.rand(1,times)\n",
        "\n",
        "    # Circle's Points: Inside\n",
        "    inside_x = np.where(((x**2)+(y**2))**(1/2) <= 1, x, np.nan)\n",
        "    inside_y = np.where(((x**2)+(y**2))**(1/2) <= 1, y, np.nan)\n",
        "\n",
        "    # Circles's Points: Outside\n",
        "    outside_x = np.where(((x**2)+(y**2))**(1/2) > 1, x, np.nan)\n",
        "    outside_y = np.where(((x**2)+(y**2))**(1/2) > 1, y, np.nan)\n",
        "\n",
        "    # Remove NaNs\n",
        "    inside_x = inside_x[~np.isnan(inside_x)]\n",
        "    inside_y = inside_y[~np.isnan(inside_y)]\n",
        "    outside_x = outside_x[~np.isnan(outside_x)]\n",
        "    outside_y = outside_y[~np.isnan(outside_y)]\n",
        "\n",
        "    # Calculus\n",
        "    inside = len(inside_x) # quantity of inside points\n",
        "    outside = len(outside_x) # quantity of outside points\n",
        "    total = inside + outside  # total of points\n",
        "    prox_circle_area = 4*inside/total # approximate value of pi\n",
        "\n",
        "    # Graph: Quarter Circle\n",
        "    plt.scatter(x=inside_x, y=inside_y, color=\"blue\")\n",
        "    plt.scatter(x=outside_x, y=outside_y, color=\"red\")\n",
        "    plt.title(\"Circle's Area\")\n",
        "    plt.xlabel(\"x\")\n",
        "    plt.ylabel(\"y\")\n",
        "    plt.grid(linestyle=\"--\",alpha=0.5,color=\"gray\")\n",
        "    plt.show()\n",
        "\n",
        "    # Result\n",
        "    print(\"\\u03c0 ~ {}\".format(prox_circle_area))"
      ],
      "metadata": {
        "id": "41ni1OnR6fzL"
      },
      "execution_count": 14,
      "outputs": []
    },
    {
      "cell_type": "code",
      "source": [
        "%%time\n",
        "approximate_pi(1000000)"
      ],
      "metadata": {
        "colab": {
          "base_uri": "https://localhost:8080/",
          "height": 350
        },
        "id": "CL3Gt0OS8Mla",
        "outputId": "6f49eee5-6bfd-4244-8f60-cf0de8ef0417"
      },
      "execution_count": 15,
      "outputs": [
        {
          "output_type": "display_data",
          "data": {
            "text/plain": [
              "<Figure size 432x288 with 1 Axes>"
            ],
            "image/png": "[encoded data removed]"
          },
          "metadata": {
            "needs_background": "light"
          }
        },
        {
          "output_type": "stream",
          "name": "stdout",
          "text": [
            "π ~ 3.142856\n",
            "CPU times: user 2.15 s, sys: 17.5 ms, total: 2.17 s\n",
            "Wall time: 2.17 s\n"
          ]
        }
      ]
    },
    {
      "cell_type": "code",
      "source": [],
      "metadata": {
        "id": "XYjJK5KjCdz4"
      },
      "execution_count": null,
      "outputs": []
    }
  ]
}